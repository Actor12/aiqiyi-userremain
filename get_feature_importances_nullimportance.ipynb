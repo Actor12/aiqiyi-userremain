{
 "cells": [
  {
   "cell_type": "code",
   "execution_count": 1,
   "metadata": {},
   "outputs": [],
   "source": [
    "import math\n",
    "import numpy as np\n",
    "import pandas as pd\n",
    "import warnings\n",
    "import matplotlib.pyplot as plt\n",
    "from matplotlib import gridspec\n",
    "import lightgbm as lgb\n",
    "from sklearn.metrics import f1_score, fbeta_score, precision_score, recall_score, roc_auc_score\n",
    "from sklearn.model_selection import StratifiedKFold,KFold,train_test_split\n",
    "import json\n",
    "warnings.filterwarnings('ignore')"
   ]
  },
  {
   "cell_type": "code",
   "execution_count": 2,
   "metadata": {},
   "outputs": [],
   "source": [
    "train = pd.read_csv('./data/new_data/lgbtrain.csv')"
   ]
  },
  {
   "cell_type": "code",
   "execution_count": 3,
   "metadata": {},
   "outputs": [],
   "source": [
    "dropfea = ['label', 'user_id', 'end_date','launch_seq','playtime_seq','duration_prefer','interact_prefer']\n",
    "features = [i for i in train.columns if i not in dropfea]"
   ]
  },
  {
   "cell_type": "code",
   "execution_count": 4,
   "metadata": {},
   "outputs": [],
   "source": [
    "def get_feature_importances(data, shuffle, seed=None):\n",
    "    # Go over fold and keep track of CV score (train and valid) and feature importances\n",
    "    features = [i for i in train.columns if i not in ['label', 'user_id', 'end_date','launch_seq','playtime_seq','duration_prefer','interact_prefer']]  #将用户pid也加进去看看效果\n",
    "    y = data['label'].copy()\n",
    "    x = data[features]\n",
    "\n",
    "    if shuffle:\n",
    "        # Here you could as well use a binomial distribution\n",
    "         y = data['label'].copy().sample(frac=1.0)\n",
    "    \n",
    "    xtrain,xval,ytrain,yval = train_test_split(x,y,random_state=42,test_size=0.25)\n",
    "    model = lgb.LGBMRegressor(\n",
    "                          num_leaves=32,\n",
    "                           max_depth=7,\n",
    "                           learning_rate=0.08,\n",
    "                           n_estimators=10000,\n",
    "                           importance_type='split',\n",
    "                           subsample=0.8,\n",
    "                           feature_fraction=0.8,\n",
    "                           reg_alpha=0.5,\n",
    "                           reg_lambda=0.5,\n",
    "                           random_state=2021,\n",
    "                           objective='regression',\n",
    "                           metric='mse',\n",
    "                           device='gpu')\n",
    "    \n",
    "     # Fit the model\n",
    "    model = model.fit(\n",
    "                xtrain,\n",
    "                ytrain,\n",
    "                eval_metric=\"mse\",\n",
    "                eval_set=[(xval, yval)],\n",
    "                verbose=200,\n",
    "                early_stopping_rounds=100\n",
    "                )\n",
    "    # Get feature importances\n",
    "    imp_df = pd.DataFrame()\n",
    "   \n",
    "    imp_df[\"feature\"] = list(features)\n",
    "    #imp_df[\"importance_gain\"] = model.feature_importances_(importance_type='gain')\n",
    "    imp_df[\"importance_split\"] = model.feature_importances_\n",
    "    #imp_df['trn_score'] = roc_auc_score(y, model.predict(data[features]))\n",
    "     \n",
    "    return imp_df\n"
   ]
  },
  {
   "cell_type": "code",
   "execution_count": 5,
   "metadata": {},
   "outputs": [
    {
     "name": "stdout",
     "output_type": "stream",
     "text": [
      "[LightGBM] [Warning] feature_fraction is set=0.8, colsample_bytree=1.0 will be ignored. Current value: feature_fraction=0.8\n",
      "[200]\tvalid_0's l2: 1.6344\n",
      "[400]\tvalid_0's l2: 1.63139\n",
      "[600]\tvalid_0's l2: 1.63111\n"
     ]
    },
    {
     "data": {
      "text/html": [
       "<div>\n",
       "<style scoped>\n",
       "    .dataframe tbody tr th:only-of-type {\n",
       "        vertical-align: middle;\n",
       "    }\n",
       "\n",
       "    .dataframe tbody tr th {\n",
       "        vertical-align: top;\n",
       "    }\n",
       "\n",
       "    .dataframe thead th {\n",
       "        text-align: right;\n",
       "    }\n",
       "</style>\n",
       "<table border=\"1\" class=\"dataframe\">\n",
       "  <thead>\n",
       "    <tr style=\"text-align: right;\">\n",
       "      <th></th>\n",
       "      <th>feature</th>\n",
       "      <th>importance_split</th>\n",
       "    </tr>\n",
       "  </thead>\n",
       "  <tbody>\n",
       "    <tr>\n",
       "      <th>0</th>\n",
       "      <td>father_id_score</td>\n",
       "      <td>998</td>\n",
       "    </tr>\n",
       "    <tr>\n",
       "      <th>1</th>\n",
       "      <td>cast_id_score</td>\n",
       "      <td>721</td>\n",
       "    </tr>\n",
       "    <tr>\n",
       "      <th>2</th>\n",
       "      <td>tag_score</td>\n",
       "      <td>660</td>\n",
       "    </tr>\n",
       "    <tr>\n",
       "      <th>3</th>\n",
       "      <td>device_type</td>\n",
       "      <td>131</td>\n",
       "    </tr>\n",
       "    <tr>\n",
       "      <th>4</th>\n",
       "      <td>device_ram</td>\n",
       "      <td>648</td>\n",
       "    </tr>\n",
       "    <tr>\n",
       "      <th>...</th>\n",
       "      <td>...</td>\n",
       "      <td>...</td>\n",
       "    </tr>\n",
       "    <tr>\n",
       "      <th>97</th>\n",
       "      <td>interact_prefer_6</td>\n",
       "      <td>86</td>\n",
       "    </tr>\n",
       "    <tr>\n",
       "      <th>98</th>\n",
       "      <td>interact_prefer_7</td>\n",
       "      <td>34</td>\n",
       "    </tr>\n",
       "    <tr>\n",
       "      <th>99</th>\n",
       "      <td>interact_prefer_8</td>\n",
       "      <td>72</td>\n",
       "    </tr>\n",
       "    <tr>\n",
       "      <th>100</th>\n",
       "      <td>interact_prefer_9</td>\n",
       "      <td>56</td>\n",
       "    </tr>\n",
       "    <tr>\n",
       "      <th>101</th>\n",
       "      <td>interact_prefer_10</td>\n",
       "      <td>25</td>\n",
       "    </tr>\n",
       "  </tbody>\n",
       "</table>\n",
       "<p>102 rows × 2 columns</p>\n",
       "</div>"
      ],
      "text/plain": [
       "                feature  importance_split\n",
       "0       father_id_score               998\n",
       "1         cast_id_score               721\n",
       "2             tag_score               660\n",
       "3           device_type               131\n",
       "4            device_ram               648\n",
       "..                  ...               ...\n",
       "97    interact_prefer_6                86\n",
       "98    interact_prefer_7                34\n",
       "99    interact_prefer_8                72\n",
       "100   interact_prefer_9                56\n",
       "101  interact_prefer_10                25\n",
       "\n",
       "[102 rows x 2 columns]"
      ]
     },
     "execution_count": 5,
     "metadata": {},
     "output_type": "execute_result"
    }
   ],
   "source": [
    "actual_imp_df = get_feature_importances(data=train, shuffle=False) \n",
    "actual_imp_df"
   ]
  },
  {
   "cell_type": "code",
   "execution_count": 6,
   "metadata": {},
   "outputs": [
    {
     "name": "stdout",
     "output_type": "stream",
     "text": [
      "Done with   50 of   50 (Spent   2.2 min)"
     ]
    }
   ],
   "source": [
    "null_imp_df = pd.DataFrame()\n",
    "nb_runs = 50\n",
    "import time\n",
    "start = time.time()\n",
    "dsp = ''\n",
    "for i in range(nb_runs):\n",
    "    # Get current run importances\n",
    "    imp_df = get_feature_importances(data=train, shuffle=True)\n",
    "    imp_df['run'] = i + 1 \n",
    "    # Concat the latest importances with the old ones\n",
    "    null_imp_df = pd.concat([null_imp_df, imp_df], axis=0)\n",
    "    # Erase previous message\n",
    "    for l in range(len(dsp)):\n",
    "        print('\\b', end='', flush=True)\n",
    "     # Display current run and time used\n",
    "    spent = (time.time() - start) / 60\n",
    "    dsp = 'Done with %4d of %4d (Spent %5.1f min)' % (i + 1, nb_runs, spent)\n",
    "    print(dsp, end='', flush=True)\n"
   ]
  },
  {
   "cell_type": "code",
   "execution_count": 7,
   "metadata": {},
   "outputs": [
    {
     "data": {
      "text/html": [
       "<div>\n",
       "<style scoped>\n",
       "    .dataframe tbody tr th:only-of-type {\n",
       "        vertical-align: middle;\n",
       "    }\n",
       "\n",
       "    .dataframe tbody tr th {\n",
       "        vertical-align: top;\n",
       "    }\n",
       "\n",
       "    .dataframe thead th {\n",
       "        text-align: right;\n",
       "    }\n",
       "</style>\n",
       "<table border=\"1\" class=\"dataframe\">\n",
       "  <thead>\n",
       "    <tr style=\"text-align: right;\">\n",
       "      <th></th>\n",
       "      <th>feature</th>\n",
       "      <th>split_score</th>\n",
       "    </tr>\n",
       "  </thead>\n",
       "  <tbody>\n",
       "    <tr>\n",
       "      <th>0</th>\n",
       "      <td>father_id_score</td>\n",
       "      <td>5.296315</td>\n",
       "    </tr>\n",
       "    <tr>\n",
       "      <th>1</th>\n",
       "      <td>cast_id_score</td>\n",
       "      <td>4.788880</td>\n",
       "    </tr>\n",
       "    <tr>\n",
       "      <th>2</th>\n",
       "      <td>tag_score</td>\n",
       "      <td>4.743040</td>\n",
       "    </tr>\n",
       "    <tr>\n",
       "      <th>3</th>\n",
       "      <td>device_type</td>\n",
       "      <td>4.875197</td>\n",
       "    </tr>\n",
       "    <tr>\n",
       "      <th>4</th>\n",
       "      <td>device_ram</td>\n",
       "      <td>4.527981</td>\n",
       "    </tr>\n",
       "    <tr>\n",
       "      <th>...</th>\n",
       "      <td>...</td>\n",
       "      <td>...</td>\n",
       "    </tr>\n",
       "    <tr>\n",
       "      <th>97</th>\n",
       "      <td>interact_prefer_6</td>\n",
       "      <td>3.761200</td>\n",
       "    </tr>\n",
       "    <tr>\n",
       "      <th>98</th>\n",
       "      <td>interact_prefer_7</td>\n",
       "      <td>3.526361</td>\n",
       "    </tr>\n",
       "    <tr>\n",
       "      <th>99</th>\n",
       "      <td>interact_prefer_8</td>\n",
       "      <td>4.276666</td>\n",
       "    </tr>\n",
       "    <tr>\n",
       "      <th>100</th>\n",
       "      <td>interact_prefer_9</td>\n",
       "      <td>4.025352</td>\n",
       "    </tr>\n",
       "    <tr>\n",
       "      <th>101</th>\n",
       "      <td>interact_prefer_10</td>\n",
       "      <td>3.218876</td>\n",
       "    </tr>\n",
       "  </tbody>\n",
       "</table>\n",
       "<p>102 rows × 2 columns</p>\n",
       "</div>"
      ],
      "text/plain": [
       "                feature  split_score\n",
       "0       father_id_score     5.296315\n",
       "1         cast_id_score     4.788880\n",
       "2             tag_score     4.743040\n",
       "3           device_type     4.875197\n",
       "4            device_ram     4.527981\n",
       "..                  ...          ...\n",
       "97    interact_prefer_6     3.761200\n",
       "98    interact_prefer_7     3.526361\n",
       "99    interact_prefer_8     4.276666\n",
       "100   interact_prefer_9     4.025352\n",
       "101  interact_prefer_10     3.218876\n",
       "\n",
       "[102 rows x 2 columns]"
      ]
     },
     "execution_count": 7,
     "metadata": {},
     "output_type": "execute_result"
    }
   ],
   "source": [
    "feature_scores = []\n",
    "for _f in actual_imp_df['feature'].unique():\n",
    "#     f_null_imps_gain = null_imp_df.loc[null_imp_df['feature'] == _f, 'importance_gain'].values\n",
    "#     f_act_imps_gain = actual_imp_df.loc[actual_imp_df['feature'] == _f, 'importance_gain'].mean()\n",
    "#     gain_score = np.log(1e-10 + f_act_imps_gain / (1 + np.percentile(f_null_imps_gain, 75)))  # Avoid didvide by zero\n",
    "    \n",
    "    f_null_imps_split = null_imp_df.loc[null_imp_df['feature'] == _f, 'importance_split'].values\n",
    "    f_act_imps_split = actual_imp_df.loc[actual_imp_df['feature'] == _f, 'importance_split'].mean()\n",
    "    split_score = np.log(1e-10 + f_act_imps_split / (1 + np.percentile(f_null_imps_split, 75)))  # Avoid didvide by zero\n",
    "    feature_scores.append((_f, split_score,))\n",
    "    \n",
    "scores_df = pd.DataFrame(feature_scores, columns=['feature', 'split_score', ])\n",
    "scores_df"
   ]
  },
  {
   "cell_type": "code",
   "execution_count": 8,
   "metadata": {},
   "outputs": [
    {
     "name": "stdout",
     "output_type": "stream",
     "text": [
      "筛选后剩余的特征：['father_id_score', 'cast_id_score', 'tag_score', 'device_type', 'device_ram', 'device_rom', 'sex', 'age', 'education', 'occupation_status', 'territory_score', 'launch_seq_0', 'launch_seq_1', 'launch_seq_2', 'launch_seq_3', 'launch_seq_4', 'launch_seq_5', 'launch_seq_6', 'launch_seq_7', 'launch_seq_8', 'launch_seq_9', 'launch_seq_10', 'launch_seq_11', 'launch_seq_12', 'launch_seq_13', 'launch_seq_14', 'launch_seq_15', 'launch_seq_16', 'launch_seq_17', 'launch_seq_18', 'launch_seq_19', 'launch_seq_20', 'launch_seq_21', 'launch_seq_22', 'launch_seq_23', 'launch_seq_24', 'launch_seq_25', 'launch_seq_26', 'launch_seq_27', 'launch_seq_28', 'launch_seq_29', 'launch_seq_30', 'launch_seq_31', 'playtime_seq_0', 'playtime_seq_1', 'playtime_seq_2', 'playtime_seq_3', 'playtime_seq_4', 'playtime_seq_5', 'playtime_seq_6', 'playtime_seq_7', 'playtime_seq_8', 'playtime_seq_9', 'playtime_seq_10', 'playtime_seq_11', 'playtime_seq_12', 'playtime_seq_13', 'playtime_seq_14', 'playtime_seq_15', 'playtime_seq_16', 'playtime_seq_17', 'playtime_seq_18', 'playtime_seq_19', 'playtime_seq_20', 'playtime_seq_21', 'playtime_seq_22', 'playtime_seq_23', 'playtime_seq_24', 'playtime_seq_25', 'playtime_seq_26', 'playtime_seq_27', 'playtime_seq_28', 'playtime_seq_29', 'playtime_seq_30', 'playtime_seq_31', 'duration_prefer_1', 'duration_prefer_2', 'duration_prefer_3', 'duration_prefer_4', 'duration_prefer_5', 'duration_prefer_6', 'duration_prefer_7', 'duration_prefer_8', 'duration_prefer_9', 'duration_prefer_10', 'duration_prefer_11', 'duration_prefer_12', 'duration_prefer_13', 'interact_prefer_0', 'interact_prefer_1', 'interact_prefer_2', 'interact_prefer_3', 'interact_prefer_4', 'interact_prefer_6', 'interact_prefer_7', 'interact_prefer_8', 'interact_prefer_9', 'interact_prefer_10']\n"
     ]
    }
   ],
   "source": [
    "#获得最后筛选完的特征，这里使用的是split 和 gain 都>0的作为入模特征\n",
    "feats = scores_df['feature'][(scores_df['split_score']>0)].tolist()\n",
    "print(\"筛选后剩余的特征：{}\".format(feats))"
   ]
  },
  {
   "cell_type": "code",
   "execution_count": 12,
   "metadata": {},
   "outputs": [
    {
     "name": "stdout",
     "output_type": "stream",
     "text": [
      "筛选的特征：['duration_prefer_0', 'duration_prefer_13', 'duration_prefer_14', 'duration_prefer_15', 'interact_prefer_5']\n"
     ]
    }
   ],
   "source": [
    "\n",
    "fats = scores_df['feature'][(scores_df['split_score']<=0)].tolist()\n",
    "print(\"筛选的特征：{}\".format(fats))"
   ]
  },
  {
   "cell_type": "code",
   "execution_count": null,
   "metadata": {},
   "outputs": [],
   "source": []
  }
 ],
 "metadata": {
  "kernelspec": {
   "display_name": "Python 3",
   "language": "python",
   "name": "python3"
  },
  "language_info": {
   "codemirror_mode": {
    "name": "ipython",
    "version": 3
   },
   "file_extension": ".py",
   "mimetype": "text/x-python",
   "name": "python",
   "nbconvert_exporter": "python",
   "pygments_lexer": "ipython3",
   "version": "3.8.5"
  }
 },
 "nbformat": 4,
 "nbformat_minor": 4
}
