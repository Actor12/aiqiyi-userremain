{
 "cells": [
  {
   "cell_type": "code",
   "execution_count": 2,
   "metadata": {},
   "outputs": [],
   "source": [
    "import math\n",
    "import numpy as np\n",
    "import pandas as pd\n",
    "import warnings\n",
    "import json\n",
    "warnings.filterwarnings('ignore')\n",
    "\n",
    "train = pd.read_csv('./data/new_data_B/train_data.txt',sep='\\t')\n",
    "test = pd.read_csv('./data/new_data_B/test_data.txt',sep='\\t')\n",
    "#data = pd.concat([train, test])\n",
    "\n",
    "train.fillna({\n",
    "    \"playtime_seq\": str([0]*32),\n",
    "    \"duration_prefer\": str([0]*16),\n",
    "    \"interact_prefer\": str([0]*11)\n",
    "}, inplace=True)\n",
    "\n",
    "test.fillna({\n",
    "    \"playtime_seq\": str([0]*32),\n",
    "    \"duration_prefer\": str([0]*16),\n",
    "    \"interact_prefer\": str([0]*11)\n",
    "}, inplace=True)\n",
    "\n",
    "train[\"launch_seq_31\"] = train.launch_seq_31.apply(lambda x: json.loads(x))\n",
    "train[\"playtime_seq\"] = train.playtime_seq.apply(lambda x: json.loads(x))\n",
    "train[\"duration_prefer\"] = train.duration_prefer.apply(lambda x: json.loads(x))\n",
    "train[\"interact_prefer\"] = train.interact_prefer.apply(lambda x: json.loads(x))\n",
    "\n",
    "test[\"launch_seq_31\"] = test.launch_seq_31.apply(lambda x: json.loads(x))\n",
    "test[\"playtime_seq\"] = test.playtime_seq.apply(lambda x: json.loads(x))\n",
    "test[\"duration_prefer\"] = test.duration_prefer.apply(lambda x: json.loads(x))\n",
    "test[\"interact_prefer\"] = test.interact_prefer.apply(lambda x: json.loads(x))\n",
    "\n",
    "#处理序列特\n",
    "def deal_seq(seq_col):\n",
    "    for col in seq_col:\n",
    "        tmp1= []\n",
    "        [tmp1.append(i) for i in train[col]]\n",
    "        for i in range(len(train[col][0])):\n",
    "            train[col+'_{}'.format(i)] = np.array(tmp1)[:,i]\n",
    "            \n",
    "        tmp2= []\n",
    "        [tmp2.append(i) for i in test[col]]\n",
    "        for i in range(len(test[col][0])):\n",
    "            test[col+'_{}'.format(i)] = np.array(tmp2)[:,i]\n",
    "seq_fea = ['launch_seq_31','playtime_seq','duration_prefer','interact_prefer']\n",
    "deal_seq(seq_fea)\n",
    "train.to_csv('./data/new_data_B/lgbtrain.csv',index=False)\n",
    "test.to_csv('./data/new_data_B/lgbtest.csv',index=False)"
   ]
  },
  {
   "cell_type": "code",
   "execution_count": 2,
   "metadata": {},
   "outputs": [
    {
     "data": {
      "text/plain": [
       "0         [0, 0, 0, 0, 0, 0, 0, 0, 0, 0, 0, 0, 0, 0, 0, ...\n",
       "1                                                       NaN\n",
       "2         [0, 0, 0, 0, 0, 0, 0, 0, 0, 0, 0, 0, 0, 0, 0, ...\n",
       "3         [0, 0, 0, 0, 0, 0, 0, 0, 0, 0, 0, 0, 0.8136, 0...\n",
       "4                                                       NaN\n",
       "                                ...                        \n",
       "599996    [0, 0, 0, 0, 0, 0, 0, 0, 0, 0, 0, 0, 0, 0, 0.0...\n",
       "599997    [0, 0, 0, 0, 0, 0, 0, 0, 0, 0, 0, 0, 0, 0, 0, ...\n",
       "599998    [0, 0, 0, 0, 0, 0, 0, 0, 0, 0, 0, 0, 0, 0, 0, ...\n",
       "599999                                                  NaN\n",
       "600000                                                  NaN\n",
       "Name: playtime_seq, Length: 600001, dtype: object"
      ]
     },
     "execution_count": 2,
     "metadata": {},
     "output_type": "execute_result"
    }
   ],
   "source": [
    "train.playtime_seq"
   ]
  },
  {
   "cell_type": "code",
   "execution_count": null,
   "metadata": {},
   "outputs": [],
   "source": []
  },
  {
   "cell_type": "code",
   "execution_count": null,
   "metadata": {},
   "outputs": [],
   "source": []
  }
 ],
 "metadata": {
  "kernelspec": {
   "display_name": "Python 3",
   "language": "python",
   "name": "python3"
  },
  "language_info": {
   "codemirror_mode": {
    "name": "ipython",
    "version": 3
   },
   "file_extension": ".py",
   "mimetype": "text/x-python",
   "name": "python",
   "nbconvert_exporter": "python",
   "pygments_lexer": "ipython3",
   "version": "3.8.5"
  }
 },
 "nbformat": 4,
 "nbformat_minor": 4
}
