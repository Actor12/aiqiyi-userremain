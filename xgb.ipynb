{
 "cells": [
  {
   "cell_type": "code",
   "execution_count": 5,
   "metadata": {},
   "outputs": [],
   "source": [
    "import math\n",
    "import numpy as np\n",
    "import pandas as pd\n",
    "import warnings\n",
    "import matplotlib.pyplot as plt\n",
    "from sklearn.feature_extraction.text import CountVectorizer, TfidfVectorizer\n",
    "from sklearn.metrics import f1_score, fbeta_score, precision_score, recall_score, roc_auc_score\n",
    "from sklearn.model_selection import StratifiedKFold,KFold\n",
    "from sklearn.preprocessing import LabelEncoder\n",
    "from tqdm import tqdm\n",
    "from datetime import datetime\n",
    "import xgboost as xgb\n",
    "import json\n",
    "warnings.filterwarnings('ignore')"
   ]
  },
  {
   "cell_type": "code",
   "execution_count": 6,
   "metadata": {},
   "outputs": [],
   "source": [
    "train = pd.read_csv('./data/new_data/lgbtrain.csv')\n",
    "test = pd.read_csv('./data/new_data/lgbtest.csv')\n",
    "#seq_fea = ['launch_seq','playtime_seq','duration_prefer','interact_prefer']              \n",
    "#样本多了一个，不好划分，删除最后一个样本。\n",
    "train = train.iloc[:-1]"
   ]
  },
  {
   "cell_type": "code",
   "execution_count": 12,
   "metadata": {},
   "outputs": [
    {
     "name": "stdout",
     "output_type": "stream",
     "text": [
      "##########第1折############\n",
      "[21:18:10] WARNING: C:/Users/Administrator/workspace/xgboost-win64_release_1.5.1/src/learner.cc:576: \n",
      "Parameters: { \"device\", \"feature_fraction\", \"num_leaves\" } might not be used.\n",
      "\n",
      "  This could be a false alarm, with some parameters getting used by language bindings but\n",
      "  then being mistakenly passed down to XGBoost core, or some parameter actually being used\n",
      "  but getting flagged wrongly here. Please open an issue if you find any such cases.\n",
      "\n",
      "\n",
      "[0]\tvalidation_0-rmse:1.94102\n",
      "[100]\tvalidation_0-rmse:1.27987\n",
      "[192]\tvalidation_0-rmse:1.28139\n",
      "##########第2折############\n",
      "[21:19:43] WARNING: C:/Users/Administrator/workspace/xgboost-win64_release_1.5.1/src/learner.cc:576: \n",
      "Parameters: { \"device\", \"feature_fraction\", \"num_leaves\" } might not be used.\n",
      "\n",
      "  This could be a false alarm, with some parameters getting used by language bindings but\n",
      "  then being mistakenly passed down to XGBoost core, or some parameter actually being used\n",
      "  but getting flagged wrongly here. Please open an issue if you find any such cases.\n",
      "\n",
      "\n",
      "[0]\tvalidation_0-rmse:1.94147\n",
      "[100]\tvalidation_0-rmse:1.28421\n",
      "[200]\tvalidation_0-rmse:1.28496\n",
      "[221]\tvalidation_0-rmse:1.28527\n",
      "##########第3折############\n",
      "[21:21:33] WARNING: C:/Users/Administrator/workspace/xgboost-win64_release_1.5.1/src/learner.cc:576: \n",
      "Parameters: { \"device\", \"feature_fraction\", \"num_leaves\" } might not be used.\n",
      "\n",
      "  This could be a false alarm, with some parameters getting used by language bindings but\n",
      "  then being mistakenly passed down to XGBoost core, or some parameter actually being used\n",
      "  but getting flagged wrongly here. Please open an issue if you find any such cases.\n",
      "\n",
      "\n",
      "[0]\tvalidation_0-rmse:1.94218\n",
      "[100]\tvalidation_0-rmse:1.28215\n",
      "[188]\tvalidation_0-rmse:1.28366\n",
      "##########第4折############\n",
      "[21:23:04] WARNING: C:/Users/Administrator/workspace/xgboost-win64_release_1.5.1/src/learner.cc:576: \n",
      "Parameters: { \"device\", \"feature_fraction\", \"num_leaves\" } might not be used.\n",
      "\n",
      "  This could be a false alarm, with some parameters getting used by language bindings but\n",
      "  then being mistakenly passed down to XGBoost core, or some parameter actually being used\n",
      "  but getting flagged wrongly here. Please open an issue if you find any such cases.\n",
      "\n",
      "\n",
      "[0]\tvalidation_0-rmse:1.94141\n",
      "[100]\tvalidation_0-rmse:1.28293\n",
      "[195]\tvalidation_0-rmse:1.28466\n",
      "##########第5折############\n",
      "[21:24:36] WARNING: C:/Users/Administrator/workspace/xgboost-win64_release_1.5.1/src/learner.cc:576: \n",
      "Parameters: { \"device\", \"feature_fraction\", \"num_leaves\" } might not be used.\n",
      "\n",
      "  This could be a false alarm, with some parameters getting used by language bindings but\n",
      "  then being mistakenly passed down to XGBoost core, or some parameter actually being used\n",
      "  but getting flagged wrongly here. Please open an issue if you find any such cases.\n",
      "\n",
      "\n",
      "[0]\tvalidation_0-rmse:1.94119\n",
      "[100]\tvalidation_0-rmse:1.27963\n",
      "[200]\tvalidation_0-rmse:1.28084\n",
      "[201]\tvalidation_0-rmse:1.28086\n"
     ]
    }
   ],
   "source": [
    "features = [i for i in train.columns if i not in ['label', 'user_id', 'end_date','launch_seq','playtime_seq','duration_prefer','interact_prefer']]  #将用户pid也加进去看看效果\n",
    "\n",
    "y = train['label']\n",
    "x = train[features]\n",
    "\n",
    "new_test = test[features]\n",
    "KF = StratifiedKFold(n_splits=5, random_state=2021, shuffle=True)\n",
    "oof_xgb = np.zeros(len(train))\n",
    "predictions_xgb = np.zeros((len(new_test)))\n",
    "\n",
    "# 特征重要性\n",
    "feat_imp_df = pd.DataFrame({'feat': features, 'imp': 0})\n",
    "\n",
    "model = xgb.XGBRegressor( max_depth=10,\n",
    "                           learning_rate=0.08,\n",
    "                           n_estimators=10000,\n",
    "                           subsample=0.8,\n",
    "                           reg_alpha=0.5,\n",
    "                           reg_lambda=0.5,\n",
    "                           random_state=2021)\n",
    "# 十折交叉验证\n",
    "for fold_, (trn_idx, val_idx) in enumerate(KF.split(x,y)):\n",
    "    print(\"##########第{}折############\".format(fold_+1))\n",
    "\n",
    "    Xtrain = x.iloc[trn_idx]\n",
    "    Ytrain = y.iloc[trn_idx]\n",
    "\n",
    "    X_val = x.iloc[val_idx]\n",
    "    Y_val = y.iloc[val_idx]\n",
    "\n",
    "    model = model.fit(Xtrain,\n",
    "                      Ytrain,\n",
    "                      eval_set=[(X_val, Y_val)],\n",
    "                      verbose=100,\n",
    "                      early_stopping_rounds=100\n",
    "                    )\n",
    "\n",
    "    feat_imp_df['imp'] += model.feature_importances_ / 5\n",
    "    oof_xgb[val_idx] = model.predict(X_val)\n",
    "    predictions_xgb += model.predict(new_test)"
   ]
  },
  {
   "cell_type": "code",
   "execution_count": 13,
   "metadata": {},
   "outputs": [],
   "source": [
    "def aiyiqi_metric(y_true,y_pred):\n",
    "    y_true = list(y_true)\n",
    "    y_pred = list(y_pred)\n",
    "    score = 0\n",
    "    for i in range(len(y_true)):\n",
    "        score += abs(y_true[i]-y_pred[i])/7\n",
    "    return 100*(1-score/len(y_true))"
   ]
  },
  {
   "cell_type": "code",
   "execution_count": 15,
   "metadata": {},
   "outputs": [
    {
     "name": "stdout",
     "output_type": "stream",
     "text": [
      "aiqyiqi score: 86.72500130316213\n"
     ]
    }
   ],
   "source": [
    "score = aiyiqi_metric(y,oof_xgb)\n",
    "print(\"aiqyiqi score: {}\".format(score))"
   ]
  },
  {
   "cell_type": "code",
   "execution_count": 16,
   "metadata": {},
   "outputs": [],
   "source": [
    "submit = test[['user_id']]\n",
    "submit['pred'] = predictions_xgb/5\n",
    "submit.columns = ['user_id', 'pred']\n",
    "submit.to_csv(\"./data/submit/xgb_submit_{}.csv\".format(score), index=False, header=False, float_format=\"%.2f\")"
   ]
  },
  {
   "cell_type": "code",
   "execution_count": null,
   "metadata": {},
   "outputs": [],
   "source": []
  }
 ],
 "metadata": {
  "kernelspec": {
   "display_name": "Python 3",
   "language": "python",
   "name": "python3"
  },
  "language_info": {
   "codemirror_mode": {
    "name": "ipython",
    "version": 3
   },
   "file_extension": ".py",
   "mimetype": "text/x-python",
   "name": "python",
   "nbconvert_exporter": "python",
   "pygments_lexer": "ipython3",
   "version": "3.8.5"
  }
 },
 "nbformat": 4,
 "nbformat_minor": 4
}
